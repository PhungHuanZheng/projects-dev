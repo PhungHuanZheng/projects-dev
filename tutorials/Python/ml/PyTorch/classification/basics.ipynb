{
 "cells": [
  {
   "cell_type": "markdown",
   "metadata": {},
   "source": [
    "### What is Classification?\n",
    "**Examples**\n",
    "- Binary Classification:\n",
    "  - Spam mail or not spam mail\n",
    "  - Image of sushi or pizza\n",
    "  - Image of dog or cat\n",
    "<br><br>\n",
    "- Multiclass Classification:\n",
    "  - Image of sushi, pizza or steak\n",
    "  - Handwritten digits classification\n",
    "  - CIFAR10 small image classification\n",
    "<br><br>\n",
    "- Multilabel Classification:\n",
    "  - Netflix recommendation \n",
    "  - Wikipedia article labels\n",
    "\n",
    "### Architecture\n",
    "#### **Input**:\n",
    "Numerical representation of data:\n",
    "\n",
    "$X = \\begin{bmatrix}\n",
    "  \\begin{bmatrix} 1 & 0 & 4 & 5 & 1 \\end{bmatrix},\n",
    "  \\begin{bmatrix} 1 & 6 & 3 & 1 & 9 \\end{bmatrix},\n",
    "  \\dots,\n",
    "  \\begin{bmatrix} 6 & 2 & 8 & 3 & 1 \\end{bmatrix}\n",
    "\\end{bmatrix}$\n",
    "\n",
    "where each set of values is a numerical representation of one datapoint in the dataset\n",
    "\n",
    "#### Output\n",
    "Onehot/dummy representation of output class:\n",
    "\n",
    "$y\\_pred = \\begin{bmatrix}\n",
    "  \\begin{bmatrix} 0.1 & 0.5 & 1.7 \\end{bmatrix},\n",
    "  \\begin{bmatrix} 1.1 & 2 & -4.2\\end{bmatrix},\n",
    "  \\dots,\n",
    "  \\begin{bmatrix} 0 & 0 & 6.3 \\end{bmatrix}\n",
    "\\end{bmatrix}$\n",
    "\n",
    "where the largest number index of each set of values is the predicted class for the corresponding datapoint index"
   ]
  }
 ],
 "metadata": {
  "language_info": {
   "name": "python"
  },
  "orig_nbformat": 4
 },
 "nbformat": 4,
 "nbformat_minor": 2
}
