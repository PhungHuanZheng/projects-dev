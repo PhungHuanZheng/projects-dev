{
 "cells": [
  {
   "cell_type": "markdown",
   "metadata": {},
   "source": [
    "# Imports"
   ]
  },
  {
   "cell_type": "code",
   "execution_count": 1,
   "metadata": {},
   "outputs": [
    {
     "name": "stdout",
     "output_type": "stream",
     "text": [
      "GPU is available and being used\n"
     ]
    }
   ],
   "source": [
    "from __future__ import annotations\n",
    "\n",
    "import numpy as np\n",
    "\n",
    "import torch\n",
    "import matplotlib.pyplot as plt\n",
    "import pandas\n",
    "\n",
    "\n",
    "# pytorch with gpu\n",
    "if torch.cuda.is_available():\n",
    "    device = torch.device(\"cuda\")\n",
    "    print(\"GPU is available and being used\")\n",
    "else:\n",
    "    device = torch.device(\"cpu\")\n",
    "    print(\"GPU is not available, using CPU instead\")"
   ]
  },
  {
   "cell_type": "markdown",
   "metadata": {},
   "source": [
    "# 1. Pytorch Tensors\n",
    "### 1.1 What is a `Tensor`?\n",
    "- Usually a multi-dimensional matrix of numbers used within a neural network.\n",
    "- Used as the input, output and operations within a neural network.\n",
    "- Supports matrix operations, e.g.:\n",
    "\n",
    "\n",
    "$\\sigma\\Bigg(\\begin{bmatrix}\n",
    "    w_{11} & w_{12} & \\dots & w_{1n} \\\\\n",
    "    w_{21} & w_{22} & \\dots & w_{2n} \\\\\n",
    "    \\vdots & \\vdots &       & \\vdots \\\\\n",
    "    w_{m1} & w_{m2} & \\dots & w_{mn}\n",
    "\\end{bmatrix}\n",
    "\\begin{bmatrix}\n",
    "    x_1 \\\\ x_2 \\\\ \\vdots \\\\ x_n\n",
    "\\end{bmatrix}\n",
    "+\n",
    "\\begin{bmatrix}\n",
    "    b_1 \\\\ b_2 \\\\ \\vdots \\\\ b_m\n",
    "\\end{bmatrix}\\Bigg)\n",
    "$\n",
    "\n",
    "### 1.2 Creating Tensors\n",
    "- Created using `torch.tensor(args)`,\n",
    "- Can be instantiated with a multi-dimensional iterable/single digit"
   ]
  },
  {
   "cell_type": "code",
   "execution_count": 9,
   "metadata": {},
   "outputs": [
    {
     "name": "stdout",
     "output_type": "stream",
     "text": [
      "A scalar has 0 dimensions\n",
      "A vector has 1 dimensions\n",
      "A matrix has 2 dimensions\n",
      "A tensor has 3 dimensions\n"
     ]
    }
   ],
   "source": [
    "# scalars (tensor with a single digit)\n",
    "scalar = torch.tensor(7)\n",
    "print(f'A scalar has {scalar.ndim} dimensions')\n",
    "\n",
    "# vectors (single-dimension set of numbers)\n",
    "vector = torch.tensor([7, 7, 7])\n",
    "print(f'A vector has {vector.ndim} dimensions')\n",
    "\n",
    "# matrices (2-dimensional set of numbers)\n",
    "matrix = torch.tensor([[7, 7, 7],\n",
    "                       [8, 8, 8],\n",
    "                       [9, 9, 9]])\n",
    "print(f'A matrix has {matrix.ndim} dimensions')\n",
    "\n",
    "# tensor (n-dimensional set of numbers)\n",
    "tensor = torch.tensor([[[1, 2, 3],\n",
    "                        [3, 4, 5],\n",
    "                        [7, 8, 9]],\n",
    "                       [[10, 11, 12],\n",
    "                        [13, 14, 15],\n",
    "                        [16, 17, 18]]])\n",
    "print(f'A tensor has {tensor.ndim} dimensions')"
   ]
  },
  {
   "cell_type": "markdown",
   "metadata": {},
   "source": [
    "### 1.3 Creating Tensors Easily\n",
    "- Usually tensors wont be hand-crafted like above.\n",
    "- This is handled by PyTorch, with just a tensor shape passed instead of a set of numbers.\n",
    "  \n",
    "#### 1.3.1 Random Tensors\n",
    "- Many neural networks start with tensors (weight and biases) of random numbers which are then adjusted to better represent the data.\n",
    "- A model starts with random numbers, looks at the data and updates it's random numbers, then rinse and repeat"
   ]
  },
  {
   "cell_type": "code",
   "execution_count": 16,
   "metadata": {},
   "outputs": [
    {
     "name": "stdout",
     "output_type": "stream",
     "text": [
      "tensor([[0.5232, 0.1631, 0.0053, 0.6401],\n",
      "        [0.5238, 0.4184, 0.3917, 0.7943],\n",
      "        [0.2628, 0.6098, 0.6061, 0.8116]])\n",
      "\n",
      "Random tensor has size torch.Size([3, 4]) and 2 dimensions.\n"
     ]
    }
   ],
   "source": [
    "# create a random tensor of size (3, 4)\n",
    "rand_tensor = torch.rand((3, 4))\n",
    "print(rand_tensor)\n",
    "print(f'\\nRandom tensor has size {rand_tensor.size()} and {rand_tensor.ndim} dimensions.')"
   ]
  },
  {
   "cell_type": "code",
   "execution_count": 27,
   "metadata": {},
   "outputs": [
    {
     "name": "stdout",
     "output_type": "stream",
     "text": [
      "tensor([[[0.8821, 0.5698, 0.7690,  ..., 0.7400, 0.6329, 0.0469],\n",
      "         [0.9483, 0.8512, 0.1780,  ..., 0.2340, 0.2860, 0.5788],\n",
      "         [0.4873, 0.3177, 0.9980,  ..., 0.6192, 0.4665, 0.7580],\n",
      "         ...,\n",
      "         [0.8261, 0.7206, 0.9057,  ..., 0.8470, 0.7275, 0.0701],\n",
      "         [0.5064, 0.6404, 0.6958,  ..., 0.4322, 0.2770, 0.1885],\n",
      "         [0.9849, 0.6889, 0.8576,  ..., 0.4625, 0.9247, 0.4965]],\n",
      "\n",
      "        [[0.5306, 0.0555, 0.7050,  ..., 0.1257, 0.0675, 0.3636],\n",
      "         [0.3453, 0.6845, 0.6131,  ..., 0.9631, 0.4905, 0.2727],\n",
      "         [0.2349, 0.3009, 0.1962,  ..., 0.5244, 0.4280, 0.8909],\n",
      "         ...,\n",
      "         [0.7612, 0.3707, 0.1354,  ..., 0.4863, 0.6554, 0.4142],\n",
      "         [0.1923, 0.5089, 0.0924,  ..., 0.7655, 0.8265, 0.0790],\n",
      "         [0.9362, 0.2015, 0.3908,  ..., 0.3229, 0.3648, 0.7773]],\n",
      "\n",
      "        [[0.3332, 0.7869, 0.9964,  ..., 0.7411, 0.1448, 0.3091],\n",
      "         [0.4049, 0.0919, 0.7072,  ..., 0.0174, 0.9662, 0.8420],\n",
      "         [0.2060, 0.4405, 0.1335,  ..., 0.2078, 0.3851, 0.9421],\n",
      "         ...,\n",
      "         [0.0496, 0.3254, 0.9574,  ..., 0.7783, 0.1536, 0.1501],\n",
      "         [0.6355, 0.3532, 0.1696,  ..., 0.0556, 0.0443, 0.8647],\n",
      "         [0.0897, 0.3565, 0.2241,  ..., 0.4980, 0.2294, 0.1134]]])\n",
      "\n",
      "Random image-like tensor has size torch.Size([3, 224, 224]) and 3 dimensions.\n"
     ]
    }
   ],
   "source": [
    "# Create a random tensor with a similar size to an image tensor (RGB)\n",
    "image_height, image_width, image_channels = 224, 224, 3\n",
    "random_image_tensor = torch.rand((image_channels, image_height, image_width))\n",
    "print(random_image_tensor)\n",
    "print(f'\\nRandom image-like tensor has size {random_image_tensor.size()} and {random_image_tensor.ndim} dimensions.')"
   ]
  },
  {
   "cell_type": "markdown",
   "metadata": {},
   "source": [
    "#### 1.3.2 Filled Tensors\n",
    "- Tensors of all $0$ s or $1$ s\n",
    "- Useful when creating `masks`, e.g.:\n",
    "\n",
    "$\\begin{bmatrix}\n",
    "    w_{11} & w_{12} & \\dots & w_{1n} \\\\\n",
    "    w_{21} & w_{22} & \\dots & w_{2n} \\\\\n",
    "    \\vdots & \\vdots &       & \\vdots \\\\\n",
    "    w_{m1} & w_{m2} & \\dots & w_{mn}\n",
    "\\end{bmatrix}\n",
    "\\begin{bmatrix}\n",
    "    0 & 0 & \\dots & 0 \\\\\n",
    "    0 & 0 & \\dots & 0 \\\\\n",
    "    \\vdots & \\vdots & & \\vdots \\\\\n",
    "    0 & 0 & \\dots & 0\n",
    "\\end{bmatrix} = \\begin{bmatrix}\n",
    "    0 & 0 & \\dots & 0 \\\\\n",
    "    0 & 0 & \\dots & 0 \\\\\n",
    "    \\vdots & \\vdots & & \\vdots \\\\\n",
    "    0 & 0 & \\dots & 0\n",
    "\\end{bmatrix}$<br>\n",
    "- to ignore an entire tensor of numbers\n"
   ]
  },
  {
   "cell_type": "code",
   "execution_count": 31,
   "metadata": {},
   "outputs": [
    {
     "name": "stdout",
     "output_type": "stream",
     "text": [
      "tensor([[0., 0., 0., 0.],\n",
      "        [0., 0., 0., 0.],\n",
      "        [0., 0., 0., 0.]])\n",
      "tensor([[1., 1., 1., 1.],\n",
      "        [1., 1., 1., 1.],\n",
      "        [1., 1., 1., 1.]])\n"
     ]
    }
   ],
   "source": [
    "# tensor of 0s\n",
    "zeros_tensor = torch.zeros((3, 4))\n",
    "print(zeros_tensor)\n",
    "\n",
    "# tensor of 1s\n",
    "ones_tensor = torch.ones((3, 4))\n",
    "print(ones_tensor)"
   ]
  },
  {
   "cell_type": "code",
   "execution_count": null,
   "metadata": {},
   "outputs": [],
   "source": []
  }
 ],
 "metadata": {
  "kernelspec": {
   "display_name": "ML",
   "language": "python",
   "name": "python3"
  },
  "language_info": {
   "codemirror_mode": {
    "name": "ipython",
    "version": 3
   },
   "file_extension": ".py",
   "mimetype": "text/x-python",
   "name": "python",
   "nbconvert_exporter": "python",
   "pygments_lexer": "ipython3",
   "version": "3.9.17"
  },
  "orig_nbformat": 4
 },
 "nbformat": 4,
 "nbformat_minor": 2
}
