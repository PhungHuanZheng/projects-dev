{
 "cells": [
  {
   "cell_type": "code",
   "execution_count": 1,
   "metadata": {},
   "outputs": [],
   "source": [
    "from __future__ import annotations\n",
    "\n",
    "from typing import Literal\n",
    "\n",
    "import sys; sys.path.append('../../projects-dev')\n",
    "from importlib import reload\n",
    "import pyutils; reload(pyutils)\n",
    "import random\n",
    "\n",
    "%load_ext autoreload\n",
    "%autoreload 2\n",
    "\n",
    "import pandas as pd\n",
    "from sklearn.datasets import make_classification"
   ]
  },
  {
   "cell_type": "code",
   "execution_count": 6,
   "metadata": {},
   "outputs": [],
   "source": [
    "from typing import Any\n",
    "\n",
    "\n",
    "class ASCIIBox:\n",
    "    def __init__(self, width: int, height: int, style: Literal['single', 'double', 'dotted'] = 'single') -> None:\n",
    "        self._shape = (width, height)\n",
    "        self._charset = {\n",
    "            'single': ('┘', '┐', '┌', '└', '┼', '─', '├', '┤', '┴', '┬', '│'),\n",
    "            'double': ('╝', '╗', '╔', '╚', '╬', '═', '╠', '╣', '╩', '╦', '║'),\n",
    "            'dotted': ()\n",
    "        }[style]\n",
    "\n",
    "    def show(self) -> None:\n",
    "        print(f'{self._charset[2]}{self._charset[5] * (self._shape[0] - 2)}{self._charset[1]}')\n",
    "        for _ in range(self._shape[1] - 2):\n",
    "            print(f'{self._charset[10]}{\" \" * (self._shape[0] - 2)}{self._charset[10]}')\n",
    "        print(f'{self._charset[3]}{self._charset[5] * (self._shape[0] - 2)}{self._charset[0]}')\n",
    "\n",
    "\n",
    "class ASCIIGrid(ASCIIBox):\n",
    "    def __init__(self, width: int, height: int, style: Literal['single', 'double', 'dotted'] = 'single') -> None:\n",
    "        super().__init__(width, height, style)\n",
    "\n",
    "    def show(self) -> None:\n",
    "        print(f'{self._charset[2]}{self._charset[9] * (self._shape[0] - 2)}{self._charset[1]}')\n",
    "        for _ in range(self._shape[1] - 2):\n",
    "            print(f'{self._charset[6]}{self._charset[4] * (self._shape[0] - 2)}{self._charset[7]}')\n",
    "        print(f'{self._charset[3]}{self._charset[8] * (self._shape[0] - 2)}{self._charset[0]}')"
   ]
  },
  {
   "cell_type": "code",
   "execution_count": 7,
   "metadata": {},
   "outputs": [
    {
     "name": "stdout",
     "output_type": "stream",
     "text": [
      "╔══════════════════╗\n",
      "║                  ║\n",
      "║                  ║\n",
      "║                  ║\n",
      "║                  ║\n",
      "║                  ║\n",
      "║                  ║\n",
      "║                  ║\n",
      "║                  ║\n",
      "╚══════════════════╝\n",
      "╔╦╦╦╦╦╦╦╦╦╦╦╦╦╦╦╦╦╦╗\n",
      "╠╬╬╬╬╬╬╬╬╬╬╬╬╬╬╬╬╬╬╣\n",
      "╠╬╬╬╬╬╬╬╬╬╬╬╬╬╬╬╬╬╬╣\n",
      "╠╬╬╬╬╬╬╬╬╬╬╬╬╬╬╬╬╬╬╣\n",
      "╠╬╬╬╬╬╬╬╬╬╬╬╬╬╬╬╬╬╬╣\n",
      "╠╬╬╬╬╬╬╬╬╬╬╬╬╬╬╬╬╬╬╣\n",
      "╠╬╬╬╬╬╬╬╬╬╬╬╬╬╬╬╬╬╬╣\n",
      "╠╬╬╬╬╬╬╬╬╬╬╬╬╬╬╬╬╬╬╣\n",
      "╠╬╬╬╬╬╬╬╬╬╬╬╬╬╬╬╬╬╬╣\n",
      "╚╩╩╩╩╩╩╩╩╩╩╩╩╩╩╩╩╩╩╝\n"
     ]
    }
   ],
   "source": [
    "ASCIIBox(width=20, height=10, style='double').show()\n",
    "ASCIIGrid(width=20, height=10, style='double').show()"
   ]
  },
  {
   "cell_type": "code",
   "execution_count": null,
   "metadata": {},
   "outputs": [],
   "source": []
  },
  {
   "cell_type": "code",
   "execution_count": 33,
   "metadata": {},
   "outputs": [
    {
     "name": "stdout",
     "output_type": "stream",
     "text": [
      "9472 ─\n",
      "9473 ━\n",
      "9474 │\n",
      "9475 ┃\n",
      "9476 ┄\n",
      "9477 ┅\n",
      "9478 ┆\n",
      "9479 ┇\n",
      "9480 ┈\n",
      "9481 ┉\n",
      "9482 ┊\n",
      "9483 ┋\n",
      "9484 ┌\n",
      "9485 ┍\n",
      "9486 ┎\n",
      "9487 ┏\n",
      "9488 ┐\n",
      "9489 ┑\n",
      "9490 ┒\n",
      "9491 ┓\n",
      "9492 └\n",
      "9493 ┕\n",
      "9494 ┖\n",
      "9495 ┗\n",
      "9496 ┘\n",
      "9497 ┙\n",
      "9498 ┚\n",
      "9499 ┛\n",
      "9500 ├\n",
      "9501 ┝\n",
      "9502 ┞\n",
      "9503 ┟\n",
      "9504 ┠\n",
      "9505 ┡\n",
      "9506 ┢\n",
      "9507 ┣\n",
      "9508 ┤\n",
      "9509 ┥\n",
      "9510 ┦\n",
      "9511 ┧\n",
      "9512 ┨\n",
      "9513 ┩\n",
      "9514 ┪\n",
      "9515 ┫\n",
      "9516 ┬\n",
      "9517 ┭\n",
      "9518 ┮\n",
      "9519 ┯\n",
      "9520 ┰\n",
      "9521 ┱\n",
      "9522 ┲\n",
      "9523 ┳\n",
      "9524 ┴\n",
      "9525 ┵\n",
      "9526 ┶\n",
      "9527 ┷\n",
      "9528 ┸\n",
      "9529 ┹\n",
      "9530 ┺\n",
      "9531 ┻\n",
      "9532 ┼\n",
      "9533 ┽\n",
      "9534 ┾\n",
      "9535 ┿\n",
      "9536 ╀\n",
      "9537 ╁\n",
      "9538 ╂\n",
      "9539 ╃\n",
      "9540 ╄\n",
      "9541 ╅\n",
      "9542 ╆\n",
      "9543 ╇\n",
      "9544 ╈\n",
      "9545 ╉\n",
      "9546 ╊\n",
      "9547 ╋\n",
      "9548 ╌\n",
      "9549 ╍\n",
      "9550 ╎\n",
      "9551 ╏\n",
      "9552 ═\n",
      "9553 ║\n",
      "9554 ╒\n",
      "9555 ╓\n",
      "9556 ╔\n",
      "9557 ╕\n",
      "9558 ╖\n",
      "9559 ╗\n",
      "9560 ╘\n",
      "9561 ╙\n",
      "9562 ╚\n",
      "9563 ╛\n",
      "9564 ╜\n",
      "9565 ╝\n",
      "9566 ╞\n",
      "9567 ╟\n",
      "9568 ╠\n",
      "9569 ╡\n",
      "9570 ╢\n",
      "9571 ╣\n",
      "9572 ╤\n",
      "9573 ╥\n",
      "9574 ╦\n",
      "9575 ╧\n",
      "9576 ╨\n",
      "9577 ╩\n",
      "9578 ╪\n",
      "9579 ╫\n",
      "9580 ╬\n"
     ]
    }
   ],
   "source": [
    "for i in range(9472, 9581):\n",
    "    print(i, chr(i))"
   ]
  },
  {
   "cell_type": "code",
   "execution_count": 14,
   "metadata": {},
   "outputs": [
    {
     "data": {
      "text/plain": [
       "9559"
      ]
     },
     "execution_count": 14,
     "metadata": {},
     "output_type": "execute_result"
    }
   ],
   "source": [
    "ord('╗')"
   ]
  },
  {
   "cell_type": "code",
   "execution_count": null,
   "metadata": {},
   "outputs": [],
   "source": [
    "ASCIIBox(width=10, height=10)"
   ]
  }
 ],
 "metadata": {
  "kernelspec": {
   "display_name": "HZ",
   "language": "python",
   "name": "python3"
  },
  "language_info": {
   "codemirror_mode": {
    "name": "ipython",
    "version": 3
   },
   "file_extension": ".py",
   "mimetype": "text/x-python",
   "name": "python",
   "nbconvert_exporter": "python",
   "pygments_lexer": "ipython3",
   "version": "3.11.3"
  },
  "orig_nbformat": 4
 },
 "nbformat": 4,
 "nbformat_minor": 2
}
