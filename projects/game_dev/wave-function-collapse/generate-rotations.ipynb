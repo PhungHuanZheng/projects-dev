{
 "cells": [
  {
   "cell_type": "code",
   "execution_count": 29,
   "metadata": {},
   "outputs": [],
   "source": [
    "import os\n",
    "from PIL import Image\n",
    "import numpy as np\n",
    "import shutil"
   ]
  },
  {
   "cell_type": "code",
   "execution_count": 38,
   "metadata": {},
   "outputs": [],
   "source": [
    "DATA_FOLDER: os.PathLike = './java/WaveFunctionCollapsev2/data/tracks/'"
   ]
  },
  {
   "cell_type": "code",
   "execution_count": 39,
   "metadata": {},
   "outputs": [],
   "source": [
    "images: list[Image.Image] = []\n",
    "for filename in os.listdir(DATA_FOLDER):\n",
    "    filepath = os.path.join(DATA_FOLDER, filename)\n",
    "\n",
    "    image = Image.open(filepath)\n",
    "    img_arr = np.array(image)\n",
    "    images.append(image)\n",
    "\n",
    "    rot_arr = img_arr\n",
    "\n",
    "    for _ in range(3):\n",
    "        rot_arr = np.rot90(rot_arr)\n",
    "        if not any((rot_arr == np.array(img)).all() for img in images):\n",
    "            images.append(Image.fromarray(rot_arr))\n",
    "\n",
    "new_path = os.path.join('/'.join(DATA_FOLDER.split('/')[:-2]), f'{DATA_FOLDER.split(\"/\")[-2]}-alter')\n",
    "\n",
    "try:\n",
    "    os.mkdir(new_path)\n",
    "except FileExistsError:\n",
    "    shutil.rmtree(new_path)\n",
    "    os.mkdir(new_path)\n",
    "\n",
    "for i, img in enumerate(images):\n",
    "    img.save(os.path.join(new_path, f'tile{i}.png'))"
   ]
  },
  {
   "cell_type": "code",
   "execution_count": 33,
   "metadata": {},
   "outputs": [
    {
     "name": "stdout",
     "output_type": "stream",
     "text": [
      "./java/WaveFunctionCollapsev2/data\n"
     ]
    }
   ],
   "source": [
    "print('/'.join(DATA_FOLDER.split('/')[:-2]))"
   ]
  },
  {
   "cell_type": "code",
   "execution_count": 23,
   "metadata": {},
   "outputs": [
    {
     "data": {
      "text/plain": [
       "['.', 'java', 'WaveFunctionCollapsev2', 'data', 'rail']"
      ]
     },
     "execution_count": 23,
     "metadata": {},
     "output_type": "execute_result"
    }
   ],
   "source": [
    "DATA_FOLDER.split('/')[:-1]"
   ]
  },
  {
   "cell_type": "code",
   "execution_count": null,
   "metadata": {},
   "outputs": [],
   "source": []
  }
 ],
 "metadata": {
  "kernelspec": {
   "display_name": "HZ",
   "language": "python",
   "name": "python3"
  },
  "language_info": {
   "codemirror_mode": {
    "name": "ipython",
    "version": 3
   },
   "file_extension": ".py",
   "mimetype": "text/x-python",
   "name": "python",
   "nbconvert_exporter": "python",
   "pygments_lexer": "ipython3",
   "version": "3.11.3"
  },
  "orig_nbformat": 4
 },
 "nbformat": 4,
 "nbformat_minor": 2
}
